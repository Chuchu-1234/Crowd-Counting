{
  "cells": [
    {
      "cell_type": "markdown",
      "metadata": {
        "id": "E6jAyUYqGhYL"
      },
      "source": [
        "### Importing necessary libraries"
      ]
    },
    {
      "cell_type": "code",
      "execution_count": null,
      "metadata": {
        "id": "Px-0NmXsGhYQ"
      },
      "outputs": [],
      "source": [
        "import os\n",
        "import pandas as pd\n",
        "import matplotlib.pyplot as plt\n",
        "import unicodedata\n",
        "\n",
        "import numpy as np\n",
        "from tqdm import tqdm, trange\n",
        "\n",
        "from tensorflow.keras.preprocessing.sequence import pad_sequences\n",
        "from tensorflow.keras.utils import to_categorical\n",
        "from tensorflow.keras.models import Model\n",
        "from tensorflow.keras import Input\n",
        "from tensorflow.keras.layers import LSTM, Embedding, Dense\n",
        "from tensorflow.keras.layers import TimeDistributed, Dropout, Bidirectional\n",
        "\n",
        "%matplotlib inline"
      ]
    },
    {
      "cell_type": "markdown",
      "metadata": {
        "id": "3cocwDgfGhYU"
      },
      "source": [
        "### Read data to get the number of words and tags"
      ]
    },
    {
      "cell_type": "code",
      "execution_count": null,
      "metadata": {
        "id": "1MvHkw3kGhYU",
        "outputId": "1f92c0e2-82fc-4d20-e861-756afdfed654"
      },
      "outputs": [
        {
          "data": {
            "text/html": [
              "<div>\n",
              "<style scoped>\n",
              "    .dataframe tbody tr th:only-of-type {\n",
              "        vertical-align: middle;\n",
              "    }\n",
              "\n",
              "    .dataframe tbody tr th {\n",
              "        vertical-align: top;\n",
              "    }\n",
              "\n",
              "    .dataframe thead th {\n",
              "        text-align: right;\n",
              "    }\n",
              "</style>\n",
              "<table border=\"1\" class=\"dataframe\">\n",
              "  <thead>\n",
              "    <tr style=\"text-align: right;\">\n",
              "      <th></th>\n",
              "      <th>Word</th>\n",
              "      <th>Tag</th>\n",
              "    </tr>\n",
              "  </thead>\n",
              "  <tbody>\n",
              "    <tr>\n",
              "      <th>0</th>\n",
              "      <td>ቀዳሚው</td>\n",
              "      <td>O</td>\n",
              "    </tr>\n",
              "    <tr>\n",
              "      <th>1</th>\n",
              "      <td>የሶማሌ</td>\n",
              "      <td>B-LOC</td>\n",
              "    </tr>\n",
              "    <tr>\n",
              "      <th>2</th>\n",
              "      <td>ክልል</td>\n",
              "      <td>I-LOC</td>\n",
              "    </tr>\n",
              "    <tr>\n",
              "      <th>3</th>\n",
              "      <td>በአወዳይ</td>\n",
              "      <td>I-LOC</td>\n",
              "    </tr>\n",
              "    <tr>\n",
              "      <th>4</th>\n",
              "      <td>ከተማ</td>\n",
              "      <td>I-LOC</td>\n",
              "    </tr>\n",
              "    <tr>\n",
              "      <th>5</th>\n",
              "      <td>ለተገደሉ</td>\n",
              "      <td>O</td>\n",
              "    </tr>\n",
              "    <tr>\n",
              "      <th>6</th>\n",
              "      <td>የክልሉ</td>\n",
              "      <td>O</td>\n",
              "    </tr>\n",
              "    <tr>\n",
              "      <th>7</th>\n",
              "      <td>ተወላጆች</td>\n",
              "      <td>O</td>\n",
              "    </tr>\n",
              "    <tr>\n",
              "      <th>8</th>\n",
              "      <td>ያከናወነው</td>\n",
              "      <td>O</td>\n",
              "    </tr>\n",
              "    <tr>\n",
              "      <th>9</th>\n",
              "      <td>የቀብር</td>\n",
              "      <td>O</td>\n",
              "    </tr>\n",
              "  </tbody>\n",
              "</table>\n",
              "</div>"
            ],
            "text/plain": [
              "     Word    Tag\n",
              "0    ቀዳሚው      O\n",
              "1    የሶማሌ  B-LOC\n",
              "2     ክልል  I-LOC\n",
              "3   በአወዳይ  I-LOC\n",
              "4     ከተማ  I-LOC\n",
              "5   ለተገደሉ      O\n",
              "6    የክልሉ      O\n",
              "7   ተወላጆች      O\n",
              "8  ያከናወነው      O\n",
              "9    የቀብር      O"
            ]
          },
          "execution_count": 152,
          "metadata": {},
          "output_type": "execute_result"
        }
      ],
      "source": [
        "data = pd.read_csv(\"amh/train.txt\", encoding=\"utf-8\", sep = \" \", names=[\"Word\", \"Tag\"])\n",
        "data.head(10)"
      ]
    },
    {
      "cell_type": "code",
      "execution_count": null,
      "metadata": {
        "id": "w1Bhr1NZGhYW",
        "outputId": "b5615351-774a-46f7-eafc-b75b4c767e83"
      },
      "outputs": [
        {
          "data": {
            "text/html": [
              "<div>\n",
              "<style scoped>\n",
              "    .dataframe tbody tr th:only-of-type {\n",
              "        vertical-align: middle;\n",
              "    }\n",
              "\n",
              "    .dataframe tbody tr th {\n",
              "        vertical-align: top;\n",
              "    }\n",
              "\n",
              "    .dataframe thead th {\n",
              "        text-align: right;\n",
              "    }\n",
              "</style>\n",
              "<table border=\"1\" class=\"dataframe\">\n",
              "  <thead>\n",
              "    <tr style=\"text-align: right;\">\n",
              "      <th></th>\n",
              "      <th>Word</th>\n",
              "      <th>Tag</th>\n",
              "    </tr>\n",
              "  </thead>\n",
              "  <tbody>\n",
              "    <tr>\n",
              "      <th>0</th>\n",
              "      <td>በአንፃሩ</td>\n",
              "      <td>O</td>\n",
              "    </tr>\n",
              "    <tr>\n",
              "      <th>1</th>\n",
              "      <td>ሁሉ</td>\n",
              "      <td>O</td>\n",
              "    </tr>\n",
              "    <tr>\n",
              "      <th>2</th>\n",
              "      <td>ሰላም</td>\n",
              "      <td>O</td>\n",
              "    </tr>\n",
              "    <tr>\n",
              "      <th>3</th>\n",
              "      <td>እንደነበር</td>\n",
              "      <td>O</td>\n",
              "    </tr>\n",
              "    <tr>\n",
              "      <th>4</th>\n",
              "      <td>የሌንዱ</td>\n",
              "      <td>O</td>\n",
              "    </tr>\n",
              "    <tr>\n",
              "      <th>5</th>\n",
              "      <td>ጎሳ</td>\n",
              "      <td>O</td>\n",
              "    </tr>\n",
              "    <tr>\n",
              "      <th>6</th>\n",
              "      <td>ቃል</td>\n",
              "      <td>O</td>\n",
              "    </tr>\n",
              "    <tr>\n",
              "      <th>7</th>\n",
              "      <td>አቀባይ</td>\n",
              "      <td>O</td>\n",
              "    </tr>\n",
              "    <tr>\n",
              "      <th>8</th>\n",
              "      <td>ፍራንስዋ</td>\n",
              "      <td>B-PER</td>\n",
              "    </tr>\n",
              "    <tr>\n",
              "      <th>9</th>\n",
              "      <td>ዳዳ</td>\n",
              "      <td>I-PER</td>\n",
              "    </tr>\n",
              "  </tbody>\n",
              "</table>\n",
              "</div>"
            ],
            "text/plain": [
              "     Word    Tag\n",
              "0   በአንፃሩ      O\n",
              "1      ሁሉ      O\n",
              "2     ሰላም      O\n",
              "3  እንደነበር      O\n",
              "4    የሌንዱ      O\n",
              "5      ጎሳ      O\n",
              "6      ቃል      O\n",
              "7    አቀባይ      O\n",
              "8   ፍራንስዋ  B-PER\n",
              "9      ዳዳ  I-PER"
            ]
          },
          "execution_count": 154,
          "metadata": {},
          "output_type": "execute_result"
        }
      ],
      "source": [
        "test_data = pd.read_csv(\"amh/test.txt\", encoding=\"utf-8\", sep = \" \", names=[\"Word\", \"Tag\"])\n",
        "test_data.head(10)"
      ]
    },
    {
      "cell_type": "markdown",
      "metadata": {
        "id": "1SJRupasGhYW"
      },
      "source": [
        "## Data Preprocessing"
      ]
    },
    {
      "cell_type": "markdown",
      "metadata": {
        "id": "xx0JOcsqGhYX"
      },
      "source": [
        "### A method to extract the words along with their named entities and read into an array for all sentences"
      ]
    },
    {
      "cell_type": "code",
      "execution_count": null,
      "metadata": {
        "id": "wmdTmaPYGhYX"
      },
      "outputs": [],
      "source": [
        "def split_text_label(filename):\n",
        "    f = open(filename, encoding = \"utf-8\")\n",
        "    split_labeled_text = []\n",
        "    sentence = []\n",
        "\n",
        "    for line in f:\n",
        "        if len(line)==0 or line.startswith('-DOCSTART') or line[0]==\"\\n\":\n",
        "            if len(sentence) > 0:\n",
        "                split_labeled_text.append(sentence)\n",
        "                sentence = []\n",
        "            continue\n",
        "        splits = line.split(' ')\n",
        "        sentence.append([splits[0],splits[-1].rstrip(\"\\n\")])\n",
        "\n",
        "    if len(sentence) > 0:\n",
        "        split_labeled_text.append(sentence)\n",
        "        sentence = []\n",
        "    return split_labeled_text"
      ]
    },
    {
      "cell_type": "code",
      "execution_count": null,
      "metadata": {
        "id": "Iqls6f1bGhYY",
        "outputId": "2d01bb58-6cdc-4908-f05a-30f12a6811f2"
      },
      "outputs": [
        {
          "name": "stdout",
          "output_type": "stream",
          "text": [
            "First 2 sentences in a word list format:\n",
            " [[['ቀዳሚው', 'O'], ['የሶማሌ', 'B-LOC'], ['ክልል', 'I-LOC'], ['በአወዳይ', 'I-LOC'], ['ከተማ', 'I-LOC'], ['ለተገደሉ', 'O'], ['የክልሉ', 'O'], ['ተወላጆች', 'O'], ['ያከናወነው', 'O'], ['የቀብር', 'O'], ['ስነ', 'O'], ['ስርዓትን', 'O'], ['የተመለከተ', 'O'], ['ዘገባ', 'O'], ['ነው', 'O'], ['፡፡', 'O']], [['ሰማያዊ', 'B-ORG'], ['ፓርቲ', 'I-ORG'], ['ዛሬ', 'B-DATE'], ['በወቅታዊ', 'O'], ['የሀገሪቱ', 'O'], ['የፖለቲካ', 'O'], ['ጉዳዮች', 'O'], ['ላይ', 'O'], ['በመኢአድ', 'B-ORG'], ['ጽህፈት', 'I-ORG'], ['ቤት', 'I-ORG'], ['የሰጠው', 'O'], ['ጋዜጣዊ', 'O'], ['መግለጫ', 'O'], ['ይከተላል', 'O'], ['፡፡', 'O']]]\n"
          ]
        }
      ],
      "source": [
        "sentences = split_text_label(os.path.join('amh/train.txt'))\n",
        "print(\"First 2 sentences in a word list format:\\n\",sentences[0:2])"
      ]
    },
    {
      "cell_type": "code",
      "execution_count": null,
      "metadata": {
        "id": "AgfAzH1DGhYY",
        "outputId": "3f5fe4a8-cbd0-41f0-e47f-cdf830c7c1bd"
      },
      "outputs": [
        {
          "name": "stdout",
          "output_type": "stream",
          "text": [
            "First 2 sentences in a word list format:\n",
            " [[['በአንፃሩ', 'O'], ['ሁሉ', 'O'], ['ሰላም', 'O'], ['እንደነበር', 'O'], ['የሌንዱ', 'O'], ['ጎሳ', 'O'], ['ቃል', 'O'], ['አቀባይ', 'O'], ['ፍራንስዋ', 'B-PER'], ['ዳዳ', 'I-PER'], ['ገልጾዋል', 'O'], ['።', 'O']], [['ጊዜ', 'O'], ['ራሱ', 'O'], ['በጎሳዎቹ', 'O'], ['መካከል', 'O'], ['ያለው', 'O'], ['ልዩነት', 'O'], ['እንዲቆም', 'O'], ['ድርሻ', 'O'], ['አበርክቶዋል', 'O'], ['።', 'O']]]\n"
          ]
        }
      ],
      "source": [
        "split_test = split_text_label(os.path.join('amh/test.txt'))\n",
        "print(\"First 2 sentences in a word list format:\\n\",split_test[0:2])"
      ]
    },
    {
      "cell_type": "code",
      "execution_count": null,
      "metadata": {
        "id": "Ka6BTk1EGhYZ"
      },
      "outputs": [],
      "source": [
        "split_valid = split_text_label(os.path.join('amh/dev.txt'))"
      ]
    },
    {
      "cell_type": "markdown",
      "metadata": {
        "id": "ZHffbybyGhYZ"
      },
      "source": [
        "### Determine biggest sentence (which can be later used for maximum length)"
      ]
    },
    {
      "cell_type": "code",
      "execution_count": null,
      "metadata": {
        "id": "4Kru1rW2GhYa",
        "outputId": "ee982897-0c61-4ef2-d16a-420ddeaf2cf2"
      },
      "outputs": [
        {
          "name": "stdout",
          "output_type": "stream",
          "text": [
            "1750\n",
            "biggest sentence has 21 words\n"
          ]
        }
      ],
      "source": [
        "print(len(sentences))\n",
        "largest_sen = max(len(sen) for sen in sentences)\n",
        "print('biggest sentence has {} words'.format(largest_sen))"
      ]
    },
    {
      "cell_type": "code",
      "execution_count": null,
      "metadata": {
        "id": "173pdQwPGhYa",
        "outputId": "0151ec71-154d-4b53-c7b8-7446f1523976"
      },
      "outputs": [
        {
          "data": {
            "image/png": "[encoded data removed]",
            "text/plain": [
              "<Figure size 432x288 with 1 Axes>"
            ]
          },
          "metadata": {
            "needs_background": "light"
          },
          "output_type": "display_data"
        }
      ],
      "source": [
        "plt.hist([len(sen) for sen in sentences])\n",
        "plt.show()"
      ]
    },
    {
      "cell_type": "markdown",
      "metadata": {
        "id": "i2dRU-OyGhYa"
      },
      "source": [
        "#### Creating Word & Tag dictionary for the later use\n",
        "- Unique words\n",
        "- Word and Tag indices"
      ]
    },
    {
      "cell_type": "code",
      "execution_count": null,
      "metadata": {
        "id": "Ldv5A11tGhYb",
        "outputId": "439e29ed-d1e3-4dc8-ab3f-b1a963e2b28f"
      },
      "outputs": [
        {
          "name": "stdout",
          "output_type": "stream",
          "text": [
            "Uniques words in Training set:\n",
            " Word    10875\n",
            "Tag         9\n",
            "dtype: int64\n",
            "\n",
            "Uniques words in Test set:\n",
            " Word    3990\n",
            "Tag        9\n",
            "dtype: int64\n"
          ]
        }
      ],
      "source": [
        "print(\"Uniques words in Training set:\\n\",data.nunique())\n",
        "print(\"\\nUniques words in Test set:\\n\",test_data.nunique())"
      ]
    },
    {
      "cell_type": "code",
      "execution_count": null,
      "metadata": {
        "id": "sAiYBYPNGhYb",
        "outputId": "c6bb720b-f8e7-47de-b62f-dd398aee770b"
      },
      "outputs": [
        {
          "name": "stdout",
          "output_type": "stream",
          "text": [
            "\n",
            "Length of vocabulary =  13151\n",
            "\n",
            "number of tags =  9\n"
          ]
        }
      ],
      "source": [
        "words = list(set(data[\"Word\"].append(test_data[\"Word\"]).values))\n",
        "words.append(\"ENDPAD\")\n",
        "\n",
        "words = [unicodedata.normalize('NFKD', str(w)).encode('ascii','ignore') for w in words]\n",
        "n_words = len(words)\n",
        "print(\"\\nLength of vocabulary = \",n_words)\n",
        "\n",
        "tags = list(set(data[\"Tag\"].values))\n",
        "n_tags = len(tags)\n",
        "\n",
        "print(\"\\nnumber of tags = \",n_tags)"
      ]
    },
    {
      "cell_type": "code",
      "execution_count": null,
      "metadata": {
        "id": "Sho9sAgnGhYc"
      },
      "outputs": [],
      "source": [
        "word2idx = {w: i for i, w in enumerate(words)}\n",
        "tag2idx = {t: i for i, t in enumerate(tags)}"
      ]
    },
    {
      "cell_type": "markdown",
      "metadata": {
        "id": "sveaL9K_GhYc"
      },
      "source": [
        "### Feature Extraction"
      ]
    },
    {
      "cell_type": "code",
      "execution_count": null,
      "metadata": {
        "id": "GJq9MZhxGhYc"
      },
      "outputs": [],
      "source": [
        "max_len = 30\n",
        "LSTM_N = 512\n",
        "BS=32"
      ]
    },
    {
      "cell_type": "code",
      "execution_count": null,
      "metadata": {
        "id": "u5pUgGJ3GhYd"
      },
      "outputs": [],
      "source": [
        "X = [[word2idx[unicodedata.normalize('NFKD', str(w[0])). encode('ascii','ignore')] for w in s] for s in sentences]\n",
        "X_test = [[word2idx[unicodedata.normalize('NFKD', str(w[0])).encode('ascii','ignore')] for w in s] for s in split_test]\n",
        "\n",
        "X = pad_sequences(maxlen=max_len, sequences=X, padding=\"post\", value=n_words - 1)\n",
        "X_test = pad_sequences(maxlen=max_len, sequences=X_test, padding=\"post\", value=n_words - 1)"
      ]
    },
    {
      "cell_type": "code",
      "execution_count": null,
      "metadata": {
        "id": "ooaaARI6GhYd"
      },
      "outputs": [],
      "source": [
        "y = [[tag2idx[w[1]] for w in s] for s in sentences]\n",
        "y = pad_sequences(maxlen=max_len, sequences=y, padding=\"post\", value=tag2idx[\"O\"])\n",
        "y = [to_categorical(i, num_classes=n_tags) for i in y]"
      ]
    },
    {
      "cell_type": "markdown",
      "metadata": {
        "id": "_jHEuq2QGhYd"
      },
      "source": [
        "### Model - Bidirectional LSTM\n",
        "- 30 dimensional word indices as input\n",
        "- 30 embedding layer generation\n",
        "- Bi-LSTM\n",
        "- softmax output layer"
      ]
    },
    {
      "cell_type": "code",
      "execution_count": null,
      "metadata": {
        "id": "5JaYmo9LGhYe",
        "outputId": "f2b0ebf2-69e9-447b-e705-e2a14795f03d"
      },
      "outputs": [
        {
          "name": "stdout",
          "output_type": "stream",
          "text": [
            "Epoch 1/10\n",
            "52/52 [==============================] - 84s 1s/step - loss: 0.6136 - accuracy: 0.8977 - val_loss: 0.4738 - val_accuracy: 0.9261\n",
            "Epoch 2/10\n",
            "52/52 [==============================] - 69s 1s/step - loss: 0.4279 - accuracy: 0.9238 - val_loss: 0.3841 - val_accuracy: 0.9261\n",
            "Epoch 3/10\n",
            "52/52 [==============================] - 70s 1s/step - loss: 0.3798 - accuracy: 0.9238 - val_loss: 0.3600 - val_accuracy: 0.9261\n",
            "Epoch 4/10\n",
            "52/52 [==============================] - 74s 1s/step - loss: 0.3641 - accuracy: 0.9238 - val_loss: 0.3565 - val_accuracy: 0.9261\n",
            "Epoch 5/10\n",
            "52/52 [==============================] - 71s 1s/step - loss: 0.3580 - accuracy: 0.9238 - val_loss: 0.3512 - val_accuracy: 0.9261\n",
            "Epoch 6/10\n",
            "52/52 [==============================] - 76s 1s/step - loss: 0.3557 - accuracy: 0.9238 - val_loss: 0.3488 - val_accuracy: 0.9261\n",
            "Epoch 7/10\n",
            "52/52 [==============================] - 75s 1s/step - loss: 0.3529 - accuracy: 0.9238 - val_loss: 0.3445 - val_accuracy: 0.9261\n",
            "Epoch 8/10\n",
            "52/52 [==============================] - 72s 1s/step - loss: 0.3507 - accuracy: 0.9238 - val_loss: 0.3461 - val_accuracy: 0.9261\n",
            "Epoch 9/10\n",
            "52/52 [==============================] - 75s 1s/step - loss: 0.3492 - accuracy: 0.9238 - val_loss: 0.3471 - val_accuracy: 0.9261\n",
            "Epoch 10/10\n",
            "52/52 [==============================] - 83s 2s/step - loss: 0.3496 - accuracy: 0.9238 - val_loss: 0.3456 - val_accuracy: 0.9261\n"
          ]
        }
      ],
      "source": [
        "input = Input(shape=(max_len,))\n",
        "model = Embedding(input_dim=n_words, output_dim=max_len, input_length=max_len)(input)\n",
        "model = Dropout(0.2)(model)\n",
        "model = Bidirectional(LSTM(units=LSTM_N, return_sequences=True, recurrent_dropout=0.1))(model)\n",
        "out = TimeDistributed(Dense(n_tags, activation=\"softmax\"))(model) #\n",
        "model = Model(input, out)\n",
        "\n",
        "model.compile(optimizer=\"adam\", loss=\"categorical_crossentropy\", metrics=[\"accuracy\"])\n",
        "history = model.fit(X, np.array(y), batch_size=BS, epochs=10, validation_split=0.05, verbose=1)"
      ]
    },
    {
      "cell_type": "code",
      "execution_count": null,
      "metadata": {
        "id": "XEZLI3IvGhYe",
        "outputId": "1619e6a1-db28-4f11-ec13-db57f94f0889"
      },
      "outputs": [
        {
          "name": "stdout",
          "output_type": "stream",
          "text": [
            "Model: \"model_22\"\n",
            "_________________________________________________________________\n",
            " Layer (type)                Output Shape              Param #   \n",
            "=================================================================\n",
            " input_23 (InputLayer)       [(None, 30)]              0         \n",
            "                                                                 \n",
            " embedding_22 (Embedding)    (None, 30, 30)            394530    \n",
            "                                                                 \n",
            " dropout_22 (Dropout)        (None, 30, 30)            0         \n",
            "                                                                 \n",
            " bidirectional_22 (Bidirecti  (None, 30, 1024)         2224128   \n",
            " onal)                                                           \n",
            "                                                                 \n",
            " time_distributed_22 (TimeDi  (None, 30, 9)            9225      \n",
            " stributed)                                                      \n",
            "                                                                 \n",
            "=================================================================\n",
            "Total params: 2,627,883\n",
            "Trainable params: 2,627,883\n",
            "Non-trainable params: 0\n",
            "_________________________________________________________________\n"
          ]
        }
      ],
      "source": [
        "model.summary()"
      ]
    },
    {
      "cell_type": "code",
      "execution_count": null,
      "metadata": {
        "id": "lGK7FjLEGhYe"
      },
      "outputs": [],
      "source": [
        "from seqeval.metrics import precision_score, recall_score, f1_score, classification_report"
      ]
    },
    {
      "cell_type": "code",
      "execution_count": null,
      "metadata": {
        "id": "m40RM0JxGhYf",
        "outputId": "b38f6e47-a5c9-42be-efc4-3437d9681071"
      },
      "outputs": [
        {
          "name": "stdout",
          "output_type": "stream",
          "text": [
            "16/16 [==============================] - 4s 273ms/step\n",
            "Predicted Probabilities on Test Set:\n",
            " (500, 30, 9)\n",
            "Predicted tag indices: \n",
            " (500, 30)\n"
          ]
        }
      ],
      "source": [
        "# Predicting on trained model\n",
        "pred = model.predict(X_test, verbose=1)\n",
        "print(\"Predicted Probabilities on Test Set:\\n\",pred.shape)\n",
        "# taking tag class with maximum probability\n",
        "pred_index = np.argmax(pred, axis=-1)\n",
        "print(\"Predicted tag indices: \\n\",pred_index.shape)"
      ]
    },
    {
      "cell_type": "code",
      "execution_count": null,
      "metadata": {
        "id": "zR8tWZG9GhYf"
      },
      "outputs": [],
      "source": [
        "idx2tag = {i: w for w, i in tag2idx.items()}\n",
        "def pred2label(pred):\n",
        "    out = []\n",
        "    for pred_i in pred:\n",
        "        out_i = []\n",
        "        for p in pred_i:\n",
        "            p_i = np.argmax(p)\n",
        "            out_i.append(idx2tag[p_i].replace(\"PADword\", \"O\"))\n",
        "        out.append(out_i)\n",
        "    return out\n",
        "def test2label(pred):\n",
        "    out = []\n",
        "    for pred_i in pred:\n",
        "        out_i = []\n",
        "        for p in pred_i:\n",
        "            out_i.append(idx2tag[p].replace(\"PADword\", \"O\"))\n",
        "        out.append(out_i)\n",
        "    return out"
      ]
    },
    {
      "cell_type": "code",
      "execution_count": null,
      "metadata": {
        "id": "geXg6_IJGhYf"
      },
      "outputs": [],
      "source": [
        "pred_labels = pred2label(pred)\n",
        "test_labels = test2label(pred_index [:29*BS])\n",
        "print(classification_report(test_labels, pred_labels))"
      ]
    }
  ],
  "metadata": {
    "kernelspec": {
      "display_name": "Python 3",
      "language": "python",
      "name": "python3"
    },
    "language_info": {
      "codemirror_mode": {
        "name": "ipython",
        "version": 3
      },
      "file_extension": ".py",
      "mimetype": "text/x-python",
      "name": "python",
      "nbconvert_exporter": "python",
      "pygments_lexer": "ipython3",
      "version": "3.8.5"
    },
    "colab": {
      "provenance": []
    }
  },
  "nbformat": 4,
  "nbformat_minor": 0
}